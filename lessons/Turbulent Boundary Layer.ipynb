{
 "metadata": {
  "name": "",
  "signature": "sha256:58eab794be085a15489416ce44acf3167eeebd9a2f2c57e5d1edfc79e55359e9"
 },
 "nbformat": 3,
 "nbformat_minor": 0,
 "worksheets": [
  {
   "cells": [
    {
     "cell_type": "code",
     "collapsed": false,
     "input": [
      "import numpy\n",
      "from matplotlib import pyplot\n",
      "%matplotlib inline\n",
      "size = 7"
     ],
     "language": "python",
     "metadata": {},
     "outputs": [],
     "prompt_number": 1
    },
    {
     "cell_type": "heading",
     "level": 1,
     "metadata": {},
     "source": [
      "Turbulent boundary layers"
     ]
    },
    {
     "cell_type": "markdown",
     "metadata": {},
     "source": [
      "## The Tubulent Equation\n",
      "\n",
      "The turbulent boudnary layer equations on a flat plate are\n",
      "\n",
      "$$ u \\frac{\\partial u}{\\partial x}+ v \\frac{\\partial u}{\\partial y} = \\frac 1\\rho \\frac{\\partial\\tau_e}{\\partial y} $$\n",
      "\n",
      "where $u$ is the mean velocity (we've dropped the $\\bar u$ notation from class), and the effective stress is\n",
      "\n",
      "$$ \\tau_e = \\mu \\frac{\\partial u}{\\partial y}-\\rho\\overline{u'v'} $$\n",
      "\n",
      "where $\\rho\\overline{u'v'}$ is the Reynolds' stress.\n",
      "\n",
      "---"
     ]
    },
    {
     "cell_type": "markdown",
     "metadata": {},
     "source": [
      "## Inner velocity profile\n",
      "\n",
      "Defining the the friction velocity as\n",
      "\n",
      "$$ u_\\tau \\equiv \\sqrt{\\frac{\\tau_w}\\rho} = U\\sqrt{\\frac {c_f}2}$$\n",
      "\n",
      "and the \"wall unit\" as\n",
      "\n",
      "$$ y^+ = \\frac{u_\\tau y}\\nu $$\n",
      "\n",
      "allows us to define the inner velocity profile as\n",
      "\n",
      "![log-law profile](resources/log-law.png)\n",
      "\n",
      "---"
     ]
    },
    {
     "cell_type": "markdown",
     "metadata": {},
     "source": [
      "## Friction and profiles\n",
      "\n",
      "On the edge of the boundary layer we have, \n",
      "\n",
      "$$ \\frac{U}{u_\\tau} = \\frac 1k \\ln\\left(\\frac{u_\\tau \\delta}\\nu\\right)+C $$\n",
      "\n",
      "and the left-hand-side and argument are:\n",
      "\n",
      "$$ \\frac{U}{u_\\tau} = \\sqrt{\\frac 2{c_f}},\\quad \\frac{u_\\tau \\delta}\\nu = \\frac{U \\delta}\\nu \\frac{u_\\tau}U = Re_\\delta \\sqrt{\\frac {c_f}2}$$\n",
      "\n",
      "therefore\n",
      "\n",
      "$$ \\sqrt{\\frac 2{c_f}} = \\frac 1k \\ln\\left(Re_\\delta \\sqrt{\\frac {c_f}2}\\right)+C$$\n",
      "\n",
      "which is an implicit equation for $c_f$ which depends on $Re_\\delta$. Integrating the profile through the boundary layer gives\n",
      "\n",
      "$$\\frac{\\delta_2}{\\delta} = c_1\\sqrt{\\frac{c_f}2}+ c_2 \\frac{c_f}2$$\n",
      "\n",
      "where $c_1$ and $c_2$ are constants. But this is fundamentally different than the laminar case! In the laminar case, $\\frac{\\delta_2}{\\delta}=F$ is a constant, but in a turbulent profile $\\frac{\\delta_2}{\\delta}$ (and therefore the profile shape) depends on $c_f$, and therefore $Re$.\n",
      "\n",
      "---"
     ]
    },
    {
     "cell_type": "markdown",
     "metadata": {},
     "source": [
      "## Power law profile\n",
      "\n",
      "We can approximate the profile with a simple equation\n",
      "\n",
      "$$ \\frac uU = \\eta^{1/n} $$\n",
      "\n",
      "where $1/n$ is the power-law for the boundary layer. From the discussion above, its clear that $n$ should depend on $Re$, but in practise $n \\approx 7$ gives a fairly good match to low Reynolds number data. This gives the momentum thickness as\n",
      "\n",
      "$$ \\frac{\\delta_2}{\\delta} = \\frac 7{72}$$\n",
      "\n",
      "If we furthermore approximate the friction implicit relation as\n",
      "\n",
      "$$ c_f = 0.02 Re_\\delta^{-1/6}$$\n",
      "\n",
      "then the momentum integral equation\n",
      "\n",
      "$$ \\frac 12 c_f = \\frac{d\\delta_2}{dx} $$\n",
      "\n",
      "gives\n",
      "\n",
      "$$ Re_\\delta = 0.16 Re^{6/7}, \\quad \\frac\\delta x = \\frac{0.16}{Re^{1/7}} $$\n",
      "\n",
      "Susbtitution gives\n",
      "\n",
      "$$ c_f = \\frac{0.027}{Re^{1/7}}, \\quad C_F = \\frac 76 c_f(L) $$\n",
      "\n",
      "Comparing to the laminar results\n",
      "\n",
      "$$ \\frac\\delta x = \\frac{5}{Re^{1/2}}, \\quad c_f = \\frac{0.66}{Re^{1/2}}, \\quad C_F = 2 c_f(L) $$\n",
      "\n",
      "we see $\\delta$ grows much faster in a turbulent BC, while the friction drag decays much slower. For example, when $Re=1E6$, we have $\\frac\\delta x=2.2E-2$ vs $5E-3$, and $c_f = 3.7E-3$ vs $6.6E-4$. \n",
      "\n",
      "---"
     ]
    },
    {
     "cell_type": "markdown",
     "metadata": {},
     "source": [
      "Now we need only to define the profiles and compare:"
     ]
    },
    {
     "cell_type": "code",
     "collapsed": false,
     "input": [
      "eta = numpy.linspace(0.0,1.0,500)\n",
      "karman = 2*eta-eta**2\n",
      "power = eta**(1./7.)\n",
      "\n",
      "pyplot.figure(figsize=(size,size))\n",
      "pyplot.xlabel('u/U', fontsize=16)\n",
      "pyplot.ylabel('$\\eta$', fontsize=16)\n",
      "pyplot.plot(karman,eta, lw=3, label='Karman')\n",
      "pyplot.plot(power,eta, lw=3, color='k', label='1/7 power')\n",
      "pyplot.legend(loc='upper left')\n",
      "pyplot.show()"
     ],
     "language": "python",
     "metadata": {},
     "outputs": [
      {
       "metadata": {},
       "output_type": "display_data",
       "png": "[encoded data removed]",
       "text": [
        "<matplotlib.figure.Figure at 0x1060b8150>"
       ]
      }
     ],
     "prompt_number": 13
    },
    {
     "cell_type": "markdown",
     "metadata": {},
     "source": [
      "We can see that both the second and forth order estimates are close to the Blasius profile, but that neither matches exactly. This indictes that while these profiles match the boundary conditions, they do not satisfy the Prandtl equations throughout the boundary layer."
     ]
    },
    {
     "cell_type": "markdown",
     "metadata": {},
     "source": [
      "---\n",
      "Please ignore the cell below. It just loads our style for the notebooks."
     ]
    },
    {
     "cell_type": "code",
     "collapsed": false,
     "input": [
      "from IPython.core.display import HTML\n",
      "def css_styling():\n",
      "    styles = open('../styles/custom.css', 'r').read()\n",
      "    return HTML(styles)\n",
      "css_styling()"
     ],
     "language": "python",
     "metadata": {},
     "outputs": [
      {
       "html": [
        "<link href='http://fonts.googleapis.com/css?family=Fenix' rel='stylesheet' type='text/css'>\n",
        "<link href='http://fonts.googleapis.com/css?family=Alegreya+Sans:100,300,400,500,700,800,900,100italic,300italic,400italic,500italic,700italic,800italic,900italic' rel='stylesheet' type='text/css'>\n",
        "<link href='http://fonts.googleapis.com/css?family=Source+Code+Pro:300,400' rel='stylesheet' type='text/css'>\n",
        "<style>\n",
        "    @font-face {\n",
        "        font-family: \"Computer Modern\";\n",
        "        src: url('http://mirrors.ctan.org/fonts/cm-unicode/fonts/otf/cmunss.otf');\n",
        "    }\n",
        "    div.cell{\n",
        "        width:800px;\n",
        "        margin-left:16% !important;\n",
        "        margin-right:auto;\n",
        "    }\n",
        "    h1 {\n",
        "        font-family: 'Alegreya Sans', sans-serif;\n",
        "    }\n",
        "    h2 {\n",
        "        font-family: 'Fenix', serif;\n",
        "    }\n",
        "    h3{\n",
        "\t\tfont-family: 'Fenix', serif;\n",
        "        margin-top:12px;\n",
        "        margin-bottom: 3px;\n",
        "       }\n",
        "\th4{\n",
        "\t\tfont-family: 'Fenix', serif;\n",
        "       }\n",
        "    h5 {\n",
        "        font-family: 'Alegreya Sans', sans-serif;\n",
        "    }\t   \n",
        "    div.text_cell_render{\n",
        "        font-family: 'Alegreya Sans',Computer Modern, \"Helvetica Neue\", Arial, Helvetica, Geneva, sans-serif;\n",
        "        line-height: 135%;\n",
        "        font-size: 120%;\n",
        "        width:600px;\n",
        "        margin-left:auto;\n",
        "        margin-right:auto;\n",
        "    }\n",
        "    .CodeMirror{\n",
        "            font-family: \"Source Code Pro\";\n",
        "\t\t\tfont-size: 90%;\n",
        "    }\n",
        "/*    .prompt{\n",
        "        display: None;\n",
        "    }*/\n",
        "    .text_cell_render h1 {\n",
        "        font-weight: 200;\n",
        "        font-size: 50pt;\n",
        "\t\tline-height: 100%;\n",
        "        color:#CD2305;\n",
        "        margin-bottom: 0.5em;\n",
        "        margin-top: 0.5em;\n",
        "        display: block;\n",
        "    }\t\n",
        "    .text_cell_render h5 {\n",
        "        font-weight: 300;\n",
        "        font-size: 16pt;\n",
        "        color: #CD2305;\n",
        "        font-style: italic;\n",
        "        margin-bottom: .5em;\n",
        "        margin-top: 0.5em;\n",
        "        display: block;\n",
        "    }\n",
        "    \n",
        "    .warning{\n",
        "        color: rgb( 240, 20, 20 )\n",
        "        }  \n",
        "</style>\n",
        "<script>\n",
        "    MathJax.Hub.Config({\n",
        "                        TeX: {\n",
        "                           extensions: [\"AMSmath.js\"], \n",
        "                           equationNumbers: { autoNumber: \"AMS\", useLabelIds: true}\n",
        "                           },\n",
        "                tex2jax: {\n",
        "                    inlineMath: [ ['$','$'], [\"\\\\(\",\"\\\\)\"] ],\n",
        "                    displayMath: [ ['$$','$$'], [\"\\\\[\",\"\\\\]\"] ]\n",
        "                },\n",
        "                displayAlign: 'center', // Change this to 'center' to center equations.\n",
        "                \"HTML-CSS\": {\n",
        "                    styles: {'.MathJax_Display': {\"margin\": 4}}\n",
        "                }\n",
        "        });\n",
        "</script>\n"
       ],
       "metadata": {},
       "output_type": "pyout",
       "prompt_number": 11,
       "text": [
        "<IPython.core.display.HTML at 0x1060a8550>"
       ]
      }
     ],
     "prompt_number": 11
    }
   ],
   "metadata": {}
  }
 ]
}