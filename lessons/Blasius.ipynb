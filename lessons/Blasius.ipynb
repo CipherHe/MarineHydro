{
 "metadata": {
  "name": "",
  "signature": "sha256:5e54bae0ef5380493031554ae89abdd130b123d411d6a8ec6a184201a630bd81"
 },
 "nbformat": 3,
 "nbformat_minor": 0,
 "worksheets": [
  {
   "cells": [
    {
     "cell_type": "code",
     "collapsed": false,
     "input": [
      "import numpy\n",
      "from matplotlib import pyplot\n",
      "%matplotlib inline\n",
      "size = 7"
     ],
     "language": "python",
     "metadata": {},
     "outputs": [],
     "prompt_number": 1
    },
    {
     "cell_type": "markdown",
     "metadata": {},
     "source": [
      "## The Blasius Equation\n",
      "\n",
      "The Prandtl equations on a flat plate are\n",
      "\n",
      "$$ u \\frac{\\partial u}{\\partial x}+ v \\frac{\\partial u}{\\partial y} = \\nu \\frac{\\partial^2 u}{\\partial y^2} $$\n",
      "$$ \\frac{\\partial u}{\\partial x}+ \\frac{\\partial v}{\\partial y} = 0. $$\n",
      "\n",
      "We don't have an equation for $v$, so we use the stream function $\\Psi$ to define the velocities as\n",
      "\n",
      "$$ u = \\frac{\\partial \\Psi}{\\partial y}, \\quad v = -\\frac{\\partial \\Psi}{\\partial x} $$\n",
      "\n",
      "and automatically satisfy the continuity equation. \n",
      "\n",
      "From scaling arguments we know the boundary layer thickness $\\delta$ scales as\n",
      "\n",
      "$$ \\frac\\delta x \\sim \\frac 1 {\\sqrt{Re}} $$\n",
      "\n",
      "and \n",
      "\n",
      "$$ \\frac u U = f\\left(\\frac y\\delta\\right) $$\n",
      "\n",
      "for a laminar flat plate boundary layer. Therefore we choose\n",
      "\n",
      "$$ \\Psi = \\sqrt{U \\nu x}\\enspace F(z), \\quad z=y\\sqrt{\\frac U{\\nu x}} $$\n",
      "\n",
      "Substitution into the momentum equation and simplification gives the **Blasius equation**\n",
      "\n",
      "$$ F''' +\\frac 12 FF'' = 0 $$\n",
      "\n",
      "with the boundary conditions $F(0) = F'(0) = 0$ and $F'(\\infty)=1$.\n",
      "\n",
      "## Numerical Solution\n",
      "\n",
      "There is no known solution for this equation, so we will resort to a numerical method. \n",
      "\n",
      "### Runge-Kutta\n",
      "If this were an initial-value first-order differential equation we could use the classic [Runge-Kutta method](http://en.wikipedia.org/wiki/Runge%E2%80%93Kutta_methods#The_Runge.E2.80.93Kutta_method)"
     ]
    },
    {
     "cell_type": "code",
     "collapsed": false,
     "input": [
      "def RK4(fz,fp,dz):\n",
      "    k1 = fp(fz)\n",
      "    k2 = fp(fz+dz/2*k1)\n",
      "    k3 = fp(fz+dz/2*k2)\n",
      "    k4 = fp(fz+dz*k3)\n",
      "    return fz+dz/6*(k1+2*k2+2*k3+k4)"
     ],
     "language": "python",
     "metadata": {},
     "outputs": [],
     "prompt_number": 26
    },
    {
     "cell_type": "markdown",
     "metadata": {},
     "source": [
      "where `fz`=$f(z)$, `fp`=$f'$ is a function defining the first derivative of $f$, and `dz`=$\\Delta z$ is the step size. `RK4` returns the value of $f(z+\\Delta z)$.\n",
      "\n",
      "### First order-system\n",
      "\n",
      "In order to apply the Runge-Kutta method to the Blasius equation, we have to replace the third-order ODE with three first-order equations\n",
      "$$ F'=G $$\n",
      "$$ G'=H $$ \n",
      "$$ H'= F''' = -\\frac 12 F H $$\n",
      "\n",
      "The right hand side of these equations defines the first derivative of the system $f=[F,G,H]$:"
     ]
    },
    {
     "cell_type": "code",
     "collapsed": false,
     "input": [
      "def fp(f):\n",
      "    return numpy.array([f[1],f[2],-0.5*f[0]*f[2]])"
     ],
     "language": "python",
     "metadata": {},
     "outputs": [],
     "prompt_number": 27
    },
    {
     "cell_type": "markdown",
     "metadata": {},
     "source": [
      "and this function can be used in the `RK4` function to integrate the system. \n",
      "\n",
      "### Initial conditions\n",
      "\n",
      "But first, we need to set the initial conditions. The boudnary conditions given above are $F(0)=0$, $F'(0)=G(0)=0$ and $F'(\\infty)=G(\\infty)=1$. However, Runge-Kutta requires that we set $F''(0)=H(0)$, which is unknown. The simplest solution is to guess and adjust $H(0)$ until $G(\\infty)=1$.\n",
      "\n",
      "**Change `H0` in the code below until you acheive the far-field condition**"
     ]
    },
    {
     "cell_type": "code",
     "collapsed": false,
     "input": [
      "H0 = 0.332           # Initial Condition\n",
      "dz = 0.05            # Step size\n",
      "Z = 10               # Integration limit\n",
      "\n",
      "n = int(Z/dz)        # Set-up arrays\n",
      "F = numpy.zeros(n)\n",
      "G = numpy.zeros(n)\n",
      "H = numpy.zeros(n)\n",
      "H[0] = H0\n",
      "\n",
      "for i in range(n-1): # Integrate from z=0..Z\n",
      "    fz = numpy.array([F[i],G[i],H[i]])\n",
      "    fz2 = RK4(fz,fp,dz)\n",
      "    F[i+1] = fz2[0]\n",
      "    G[i+1] = fz2[1]\n",
      "    H[i+1] = fz2[2]\n",
      "\n",
      "\"H(0)={H0:0.3f}, G({Z})={Ginf}\".format(H0=H0,Z=Z,Ginf=G[n-1])"
     ],
     "language": "python",
     "metadata": {},
     "outputs": [
      {
       "metadata": {},
       "output_type": "pyout",
       "prompt_number": 128,
       "text": [
        "'H(0)=0.332, G(10)=0.999884880035'"
       ]
      }
     ],
     "prompt_number": 128
    },
    {
     "cell_type": "markdown",
     "metadata": {},
     "source": [
      "With some trial and error we see that $H(0)\\approx0.33$ satifies our far field condition on $G$. \n",
      "\n",
      "**Is $Z=10$ really close enough to $\\infty$? Is $\\Delta z=0.05$ small enough? Adjust the step size and upper limit to see how sensitive this value is. **\n",
      "\n",
      "## Blasius profile properties\n",
      "\n",
      "### Boundary layer thickness: $\\delta$\n",
      "\n",
      "Because of our boundary conditions, $G=u/U=1$ only at $z=\\infty$, but $G$ is very close to 1 for finite values of $z$"
     ]
    },
    {
     "cell_type": "code",
     "collapsed": false,
     "input": [
      "i = 100\n",
      "\"G({z})={G}\".format(z=(i-1)*dz,G=G[i-1])"
     ],
     "language": "python",
     "metadata": {},
     "outputs": [
      {
       "metadata": {},
       "output_type": "pyout",
       "prompt_number": 71,
       "text": [
        "'G(4.95)=0.990594212521'"
       ]
      }
     ],
     "prompt_number": 71
    },
    {
     "cell_type": "markdown",
     "metadata": {},
     "source": [
      "$G=u/U=0.99$ at $z=y\\sqrt{\\frac U{\\nu x}}\\approx 5$. This is typically used as the Blasius boundary layer thickness - _but this is arbitrary_!\n",
      "\n",
      "**Find where the 99.9% thickness is by changing $i$.**\n",
      "\n",
      "### Displacement and momentum thickness\n",
      "\n",
      "The displacement thickness and momentum thickness values are well defined irregardless of $\\delta$.\n",
      "\n",
      "$$ \\delta_1 = \\int_0^\\infty 1-\\frac u U dy $$\n",
      "$$ \\delta_2 = \\int_0^\\infty \\frac u U \\left(1-\\frac u U\\right) dy $$"
     ]
    },
    {
     "cell_type": "code",
     "collapsed": false,
     "input": [
      "del1 = sum(1-G)*dz\n",
      "del2 = sum(G*(1-G))*dz\n",
      "[\"%0.3f\" % j for j in [del1,del2,del1/del2]]"
     ],
     "language": "python",
     "metadata": {},
     "outputs": [
      {
       "metadata": {},
       "output_type": "pyout",
       "prompt_number": 80,
       "text": [
        "['1.747', '0.665', '2.627']"
       ]
      }
     ],
     "prompt_number": 80
    },
    {
     "cell_type": "markdown",
     "metadata": {},
     "source": [
      "And we see $\\delta_1/x \\approx 1.75 Re^{-1/2}$, $\\delta_2/x \\approx 0.66 Re^{-1/2}$, and the shape factor $H = \\delta_1/\\delta_2 \\approx 2.6$\n",
      "\n",
      "## Comparison to polynomial profiles\n",
      "\n",
      "We next compare the Blasius profiles to the linear, Karman (quadratic), and Pohlhausen (quintic) profiles."
     ]
    },
    {
     "cell_type": "code",
     "collapsed": false,
     "input": [
      "i = 100\n",
      "eta = numpy.linspace(0.0,1.0,i)\n",
      "karman = 2*eta-eta**2\n",
      "pohlF = 2*eta-2*eta**3+eta**4"
     ],
     "language": "python",
     "metadata": {},
     "outputs": [],
     "prompt_number": 123
    },
    {
     "cell_type": "markdown",
     "metadata": {},
     "source": [
      "where $\\eta=y/\\delta$.\n",
      "\n",
      "First we compute the thicknesses $\\delta/x \\sqrt{Re},\\ \\delta_1/x \\sqrt{Re},\\ \\delta_2/x \\sqrt{Re},\\ \\delta_2/\\delta_1$.\n",
      "\n",
      "For the linear profile we have:"
     ]
    },
    {
     "cell_type": "code",
     "collapsed": false,
     "input": [
      "FL = sum(eta*(1-eta))/i\n",
      "delL = numpy.sqrt(2/FL)\n",
      "[\"%0.3f\" % j for j in [delL,sum(1-eta)/i*delL,FL*delL,sum(1-eta)/sum(eta*(1-eta))]]"
     ],
     "language": "python",
     "metadata": {},
     "outputs": [
      {
       "metadata": {},
       "output_type": "pyout",
       "prompt_number": 124,
       "text": [
        "['3.482', '1.741', '0.574', '3.031']"
       ]
      }
     ],
     "prompt_number": 124
    },
    {
     "cell_type": "markdown",
     "metadata": {},
     "source": [
      "for the Karman profile we have:"
     ]
    },
    {
     "cell_type": "code",
     "collapsed": false,
     "input": [
      "FK = sum(karman*(1-karman))/i\n",
      "delK = numpy.sqrt(4/FK)\n",
      "[\"%0.3f\" % j for j in [delK,sum(1-karman)/i*delK,FK*delK,sum(1-karman)/sum(karman*(1-karman))]]"
     ],
     "language": "python",
     "metadata": {},
     "outputs": [
      {
       "metadata": {},
       "output_type": "pyout",
       "prompt_number": 125,
       "text": [
        "['5.505', '1.844', '0.727', '2.538']"
       ]
      }
     ],
     "prompt_number": 125
    },
    {
     "cell_type": "markdown",
     "metadata": {},
     "source": [
      "and for the Pohlhausen profile:"
     ]
    },
    {
     "cell_type": "code",
     "collapsed": false,
     "input": [
      "FP = sum(pohlF*(1-pohlF))/i\n",
      "delP = numpy.sqrt(4/FP)\n",
      "[\"%0.3f\" % j for j in [delP,sum(1-pohlF)/i*delP,FP*delP,sum(1-pohlF)/sum(pohlF*(1-pohlF))]]"
     ],
     "language": "python",
     "metadata": {},
     "outputs": [
      {
       "metadata": {},
       "output_type": "pyout",
       "prompt_number": 126,
       "text": [
        "['5.865', '1.771', '0.682', '2.598']"
       ]
      }
     ],
     "prompt_number": 126
    },
    {
     "cell_type": "markdown",
     "metadata": {},
     "source": [
      "which (other than the arbitrary $\\delta$ value) compare very well with the Blasius values above.\n",
      "\n",
      "Finally, lets compare visually:"
     ]
    },
    {
     "cell_type": "code",
     "collapsed": false,
     "input": [
      "pyplot.figure(figsize=(size,size))\n",
      "pyplot.axis([0,1,0,7])\n",
      "pyplot.xlabel('u/U', fontsize=16)\n",
      "pyplot.ylabel('z', fontsize=16)\n",
      "pyplot.plot(eta,eta*delL, lw=3, label='Linear')\n",
      "pyplot.plot(karman,eta*delK, lw=3, label='Karman')\n",
      "pyplot.plot(pohlF,eta*delP, lw=3, color='k', label='Pohlhausen')\n",
      "pyplot.plot(G,numpy.linspace(0,Z,n), lw=3, label='Blasius')\n",
      "pyplot.legend(loc='upper left')"
     ],
     "language": "python",
     "metadata": {},
     "outputs": [
      {
       "metadata": {},
       "output_type": "pyout",
       "prompt_number": 129,
       "text": [
        "<matplotlib.legend.Legend at 0x10b1cbfd0>"
       ]
      },
      {
       "metadata": {},
       "output_type": "display_data",
       "png": "[encoded data removed]",
       "text": [
        "<matplotlib.figure.Figure at 0x10b3f99d0>"
       ]
      }
     ],
     "prompt_number": 129
    },
    {
     "cell_type": "markdown",
     "metadata": {},
     "source": [
      "We can see that both the second and forth order estimates are close to the Blasius profile, but that neither matches exactly. This indictes that while these profiles match the boundary conditions, they do not satisfy the Prandtl equations throughout the boundary layer."
     ]
    }
   ],
   "metadata": {}
  }
 ]
}