{
 "metadata": {
  "name": "",
  "signature": "sha256:f9e9c7f58d77e2a25ec80c4d4a69051a38c0702e67a5debd583184959747be89"
 },
 "nbformat": 3,
 "nbformat_minor": 0,
 "worksheets": [
  {
   "cells": [
    {
     "cell_type": "code",
     "collapsed": false,
     "input": [
      "import numpy\n",
      "from matplotlib import pyplot\n",
      "%matplotlib inline\n",
      "size = 7"
     ],
     "language": "python",
     "metadata": {},
     "outputs": [],
     "prompt_number": 1
    },
    {
     "cell_type": "markdown",
     "metadata": {},
     "source": [
      "The Prandtl equations on a flat plate are\n",
      "\n",
      "$$ u \\frac{\\partial u}{\\partial x}+ v \\frac{\\partial u}{\\partial y} = \\nu \\frac{\\partial^2 u}{\\partial y^2} $$\n",
      "$$ \\frac{\\partial u}{\\partial x}+ \\frac{\\partial v}{\\partial y} = 0. $$\n",
      "\n",
      "We don't have an equation for $v$, so we use the stream function $\\Psi$ to define the velocities as\n",
      "\n",
      "$$ u = \\frac{\\partial \\Psi}{\\partial y}, \\quad v = -\\frac{\\partial \\Psi}{\\partial x} $$\n",
      "\n",
      "and automatically satisfy the continuity equation. \n",
      "\n",
      "From scaling arguments we know the boundary layer thickness $\\delta$ scales as\n",
      "\n",
      "$$ \\frac\\delta x \\sim \\frac 1 {\\sqrt{Re}} $$\n",
      "\n",
      "and \n",
      "\n",
      "$$ \\frac u U = f\\left(\\frac y\\delta\\right) $$\n",
      "\n",
      "for a laminar flat plate boundary layer. Therefore we choose\n",
      "\n",
      "$$ \\Psi = \\sqrt{U \\nu x}\\enspace F\\left( y\\sqrt{\\frac U{\\nu x}}\\right) $$\n",
      "\n",
      "Substitution into the momentum equation and simplification gives\n",
      "\n",
      "$$ F''' +\\frac 12 FF'' = 0 $$\n",
      "\n",
      "With the boundary conditions $F(0) = F'(0) = 0$ and $F'(\\infty)=1$.\n",
      "\n",
      "There is no known solution for this equation, so we will resort to a numerical method. If this were an initial-value first-order differential equation we could use the classic Runge-Kutta method"
     ]
    },
    {
     "cell_type": "code",
     "collapsed": false,
     "input": [
      "def RK4(fx,fp,dx):\n",
      "    k1 = fp(fx)\n",
      "    k2 = fp(fx+dx/2*k1)\n",
      "    k3 = fp(fx+dx/2*k2)\n",
      "    k4 = fp(fx+dx*k3)\n",
      "    return fx+dx/6*(k1+2*k2+2*k3+k4)"
     ],
     "language": "python",
     "metadata": {},
     "outputs": [],
     "prompt_number": 2
    },
    {
     "cell_type": "markdown",
     "metadata": {},
     "source": [
      "where `fx`=$f(x)$ is the value at location $x$, `fp`=$f'$ is the first derivative function, and `dx`=$\\Delta x$ is the step size. `RK4` returns the value of $f(x+\\Delta x)$.\n",
      "\n",
      "By defining $G=F'$ and $H=G'=F''$ we have $ H' = F''' = -\\frac 12 F H $. And so we replace the third-order ODE with three first-order equations, which we encapsulate as an array function"
     ]
    },
    {
     "cell_type": "code",
     "collapsed": false,
     "input": [
      "def fp(f):\n",
      "    return numpy.array([f[1],f[2],-0.5*f[0]*f[2]])"
     ],
     "language": "python",
     "metadata": {},
     "outputs": [],
     "prompt_number": 3
    },
    {
     "cell_type": "markdown",
     "metadata": {},
     "source": [
      "And can send to RK4 once we set the initial conditions. $F(0)=0$, and $G(0)=F'(0)=0$ from above, but $H(0)$ is unknown. Instead we have to adjust $H(0)$ until $G(\\infty)=1$.\n",
      "\n",
      "**Change `H[0]` in the code below until you acheive the far-field condition**"
     ]
    },
    {
     "cell_type": "code",
     "collapsed": false,
     "input": [
      "H0 = 0.332\n",
      "n = 1000\n",
      "dx = 0.01\n",
      "\n",
      "F = numpy.zeros(n)\n",
      "G = numpy.zeros(n)\n",
      "H = numpy.zeros(n)\n",
      "H[0] = H0\n",
      "\n",
      "for i in range(n-1):\n",
      "    fx = numpy.array([F[i],G[i],H[i]])\n",
      "    fx2 = RK4(fx,fp,dx)\n",
      "    F[i+1] = fx2[0]\n",
      "    G[i+1] = fx2[1]\n",
      "    H[i+1] = fx2[2]\n",
      "\n",
      "\"H(0)={H0:0.3f}, G(inf)={Ginf}\".format(H0=H0,Ginf=G[n-1])"
     ],
     "language": "python",
     "metadata": {},
     "outputs": [
      {
       "metadata": {},
       "output_type": "pyout",
       "prompt_number": 4,
       "text": [
        "'H(0)=0.332, G(inf)=0.999884881527'"
       ]
      }
     ],
     "prompt_number": 4
    },
    {
     "cell_type": "markdown",
     "metadata": {},
     "source": [
      "And so we see that $H(0)\\approx0.33$ satifies our far field condition on $G$. \n",
      "\n",
      "**Adjust the number of points `n` and the spacing `dx` to see how sensitive this value is.**\n",
      "\n",
      "\n",
      "$G=u/U=1$ only at infinity, but..."
     ]
    },
    {
     "cell_type": "code",
     "collapsed": false,
     "input": [
      "i = 496\n",
      "\"G({x})={G}\".format(x=(i-1)*dx,G=G[i-1])"
     ],
     "language": "python",
     "metadata": {},
     "outputs": [
      {
       "metadata": {},
       "output_type": "pyout",
       "prompt_number": 5,
       "text": [
        "'G(4.95)=0.990594216958'"
       ]
      }
     ],
     "prompt_number": 5
    },
    {
     "cell_type": "markdown",
     "metadata": {},
     "source": [
      "$G=u/U=0.99$ at $y\\sqrt{\\frac U{\\nu x}}\\approx 5$. This is typically used as the Blasius boundary layer thickness - _but this is arbitrary_!\n",
      "\n",
      "**Find where the 99.9% thickness is by changing $i$.**\n",
      "\n",
      "The displacement thickness and momentum thickness values are well defined irregardless of $\\delta$.\n",
      "\n",
      "$$ \\delta_1 = \\int_0^\\infty 1-\\frac u U dy $$\n",
      "$$ \\delta_2 = \\int_0^\\infty \\frac u U \\left(1-\\frac u U\\right) dy $$"
     ]
    },
    {
     "cell_type": "code",
     "collapsed": false,
     "input": [
      "del1 = sum(1-G)*dx\n",
      "del2 = sum(G*(1-G))*dx\n",
      "[\"%0.3f\" % j for j in [del1,del2,del1/del2]]"
     ],
     "language": "python",
     "metadata": {},
     "outputs": [
      {
       "metadata": {},
       "output_type": "pyout",
       "prompt_number": 6,
       "text": [
        "['1.727', '0.665', '2.597']"
       ]
      }
     ],
     "prompt_number": 6
    },
    {
     "cell_type": "markdown",
     "metadata": {},
     "source": [
      "And we see $\\delta_1/x \\approx 1.73 Re^{-1/2}$, $\\delta_2/x \\approx 0.66 Re^{-1/2}$, and the shape factor $H = \\delta_1/\\delta_2 \\approx 2.6$\n",
      "\n",
      "Finally, let's compare Blasius to the Karman and Pohlhausen profiles."
     ]
    },
    {
     "cell_type": "code",
     "collapsed": false,
     "input": [
      "eta = numpy.linspace(0.0,1.0,i)\n",
      "karman = 2*eta-eta**2\n",
      "pohlF = 2*eta-2*eta**3+eta**4"
     ],
     "language": "python",
     "metadata": {},
     "outputs": [],
     "prompt_number": 7
    },
    {
     "cell_type": "markdown",
     "metadata": {},
     "source": [
      "First, lets compare visually:"
     ]
    },
    {
     "cell_type": "code",
     "collapsed": false,
     "input": [
      "pyplot.figure(figsize=(size,size))\n",
      "pyplot.xlabel('u/U', fontsize=16)\n",
      "pyplot.ylabel('y/del', fontsize=16)\n",
      "pyplot.plot(eta,eta, lw=2, color='red')\n",
      "pyplot.plot(karman,eta, lw=2, color='blue')\n",
      "pyplot.plot(pohlF,eta, lw=2, color='green')\n",
      "pyplot.plot(G[:i],eta, lw=2, color='black')"
     ],
     "language": "python",
     "metadata": {},
     "outputs": [
      {
       "metadata": {},
       "output_type": "pyout",
       "prompt_number": 8,
       "text": [
        "[<matplotlib.lines.Line2D at 0x1060ce4d0>]"
       ]
      },
      {
       "metadata": {},
       "output_type": "display_data",
       "png": "[encoded data removed]",
       "text": [
        "<matplotlib.figure.Figure at 0x1060a4e10>"
       ]
      }
     ],
     "prompt_number": 8
    },
    {
     "cell_type": "markdown",
     "metadata": {},
     "source": [
      "We can see that both the second and forth order estimates are fairly close to the Blasius profile, but that neither matches exactly. This indictes that while these profiles match the boundary conditions, they do not exactly satisfy the Prandtl equations throughout the boundary layer. \n",
      "\n",
      "Despite this, they well estimate the thicknesses. For the Karman profile we have for $\\delta/x \\sqrt{Re},\\ \\delta_1/x \\sqrt{Re},\\ \\delta_2/x \\sqrt{Re},\\ \\delta_2/\\delta_1$"
     ]
    },
    {
     "cell_type": "code",
     "collapsed": false,
     "input": [
      "FK = sum(karman*(1-karman))/i\n",
      "delK = numpy.sqrt(4/FK)\n",
      "[\"%0.3f\" % j for j in [delK,sum(1-karman)/i*delK,FK*delK,sum(1-karman)/sum(karman*(1-karman))]]"
     ],
     "language": "python",
     "metadata": {},
     "outputs": [
      {
       "metadata": {},
       "output_type": "pyout",
       "prompt_number": 9,
       "text": [
        "['5.483', '1.829', '0.730', '2.508']"
       ]
      }
     ],
     "prompt_number": 9
    },
    {
     "cell_type": "markdown",
     "metadata": {},
     "source": [
      "and for the Pohlhausen profile"
     ]
    },
    {
     "cell_type": "code",
     "collapsed": false,
     "input": [
      "FP = sum(pohlF*(1-pohlF))/i\n",
      "delP = numpy.sqrt(4/FP)\n",
      "[\"%0.3f\" % j for j in [delP,sum(1-pohlF)/i*delP,FP*delP,sum(1-pohlF)/sum(pohlF*(1-pohlF))]]"
     ],
     "language": "python",
     "metadata": {},
     "outputs": [
      {
       "metadata": {},
       "output_type": "pyout",
       "prompt_number": 10,
       "text": [
        "['5.841', '1.755', '0.685', '2.563']"
       ]
      }
     ],
     "prompt_number": 10
    },
    {
     "cell_type": "markdown",
     "metadata": {},
     "source": [
      "which (other than the arbitrary $\\delta$ value) compare very well with the Blasius values above."
     ]
    }
   ],
   "metadata": {}
  }
 ]
}