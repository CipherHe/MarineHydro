{
 "metadata": {
  "name": "",
  "signature": "sha256:e911bd8303a005e02d4df5453d93c50b3d884e93cf0a2beb4f041a2711c46a2b"
 },
 "nbformat": 3,
 "nbformat_minor": 0,
 "worksheets": [
  {
   "cells": [
    {
     "cell_type": "markdown",
     "metadata": {},
     "source": [
      "# Pohlhausen Boundary Layer Solver\n",
      "\n",
      "This notebook will develop a numerical method for solving the boundary layer momentum integral equation using Pohlhausen velocity profiles."
     ]
    },
    {
     "cell_type": "markdown",
     "metadata": {},
     "source": [
      "## Momentum integral equation\n",
      "\n",
      "In the boundary layer portion of the course we derived the governing equations for a boundary layer using the concept of a velocity profile \n",
      "\n",
      "$$u = u_e(x) f(\\eta), \\quad \\eta=\\frac y{\\delta(x)}$$\n",
      "\n",
      "where $u_e$ is the local free stream velocity and $\\delta$ is the boundary layer thickness. Note that $x$ is the distance along the wall from the leading edge and $y$ is the distance from the wall.\n",
      "\n",
      "This enable the development of the **momentum integral equation**\n",
      "\n",
      "$$ \\frac 12 c_f = \\frac{u_e'}{u_e}(\\delta_1+2\\delta_2)+\\delta_2' $$\n",
      "\n",
      "which balances the force on the wall with the change in the boundary layer profile. The tick mark indicates the derivative along the wall, ie $u_e'=\\frac{du_e}{dx}$. \n",
      "\n",
      "** The goal is to use the momentum equation to determine how the boundary layer develops, predicting the friction drag and the point of separation. **\n",
      "\n",
      "The velocity $u_e$ (and $u_e'$) is considered to be prescribed by the potential flow solution, but there are still too many unknowns. We need to choose a profile to develop this further..."
     ]
    },
    {
     "cell_type": "markdown",
     "metadata": {},
     "source": [
      "##Pohlhausen profile\n",
      "\n",
      "The Pohlhausen profile is used to describe a velocity profile exposed to external pressure gradients. The profile is defined as\n",
      "\n",
      "$$ \\frac u {u_e} = f(\\eta) = P_F(\\eta)+\\lambda P_G(\\eta) $$\n",
      "\n",
      "where $\\lambda$ is the *shape factor*, given by\n",
      "$$ \\lambda = \\frac {\\delta^2}\\nu u_e'$$\n",
      "\n",
      "and the profile shapes are defined by\n",
      "\n",
      "- $ P_F = 2\\eta-2\\eta^3+\\eta^4 $ is the flat plate profile\n",
      "- $ P_G = \\frac\\eta 6 (1-\\eta)^3 $ is the modification for pressure gradients\n",
      "\n",
      "These can be easly defined using a set of python functions"
     ]
    },
    {
     "cell_type": "code",
     "collapsed": false,
     "input": [
      "import numpy\n",
      "\n",
      "def pohlF(eta): return 2*eta-2*eta**3+eta**4\n",
      "def pohlG(eta): return eta/6*(1-eta)**3"
     ],
     "language": "python",
     "metadata": {},
     "outputs": [],
     "prompt_number": 1
    },
    {
     "cell_type": "code",
     "collapsed": false,
     "input": [
      "from matplotlib import pyplot\n",
      "%matplotlib inline\n",
      "\n",
      "def pohlPlot(lam):\n",
      "    pyplot.xlabel(r'$u/u_e$', fontsize=16)\n",
      "    pyplot.axis([-0.1,1.1,0,1])\n",
      "    pyplot.ylabel(r'$y/\\delta$', fontsize=16)\n",
      "    eta = numpy.linspace(0.0,1.0,100)\n",
      "    pyplot.plot(pohlF(eta),eta, lw=1, color='black', label=r'$P_F$')\n",
      "    pyplot.plot(pohlF(eta)+lam*pohlG(eta),eta, lw=2, color='green', label=r'$P_F+\\lambda P_G$')\n",
      "    pyplot.legend(loc='upper left')"
     ],
     "language": "python",
     "metadata": {},
     "outputs": [],
     "prompt_number": 2
    },
    {
     "cell_type": "markdown",
     "metadata": {},
     "source": [
      "Change $\\lambda$ below to see its effect on the profile shape."
     ]
    },
    {
     "cell_type": "code",
     "collapsed": false,
     "input": [
      "pohlPlot(lam=7)"
     ],
     "language": "python",
     "metadata": {},
     "outputs": [
      {
       "metadata": {},
       "output_type": "display_data",
       "png": "[encoded data removed]",
       "text": [
        "<matplotlib.figure.Figure at 0x101dc2450>"
       ]
      }
     ],
     "prompt_number": 3
    },
    {
     "cell_type": "markdown",
     "metadata": {},
     "source": [
      "##### Quiz 1\n",
      "\n",
      "What value of $\\lambda$ denotes separated flow?\n",
      "\n",
      "1. $\\lambda$<-12\n",
      "1. $\\lambda$=0\n",
      "1. $\\lambda$>12"
     ]
    },
    {
     "cell_type": "markdown",
     "metadata": {},
     "source": [
      "---\n",
      "\n",
      "Using the Pohlhausen profile, the various factors in the momentum integral equation are defined as\n",
      "\n",
      "- $\\frac{\\delta_1}\\delta = \\frac3{10}-\\lambda\\frac1{120}$\n",
      "\n",
      "\n",
      "- $\\frac{\\delta_2}\\delta \\equiv F = \\frac{37}{315}-\\lambda\\frac1{945}-\\lambda^2\\frac1{9072}$\n",
      "\n",
      "\n",
      "- $\\frac 12 c_f Re_\\delta = 2+\\lambda\\frac1{6}$\n",
      "\n",
      "where $Re_\\delta = \\frac{u_e\\delta}\\nu$ is the local boundary layer Reynolds number. \n",
      "\n",
      "Note that these are all polynomial functions of $\\lambda$, and easily implemented:"
     ]
    },
    {
     "cell_type": "code",
     "collapsed": false,
     "input": [
      "def delta_1(lam): return 3./10.-lam/120.\n",
      "def delta_2(lam): return 37./315.-lam/945.-lam**2/9072.\n",
      "def half_cf(lam): return 2+lam/6."
     ],
     "language": "python",
     "metadata": {},
     "outputs": [],
     "prompt_number": 4
    },
    {
     "cell_type": "code",
     "collapsed": false,
     "input": [
      "pyplot.xlabel(r'$\\lambda$', fontsize=16)\n",
      "lam = numpy.linspace(-12,12,100)\n",
      "pyplot.plot(lam,delta_1(lam), lw=2, label=r'$\\delta_1/\\delta$')\n",
      "pyplot.plot(lam,delta_2(lam), lw=2, label=r'$\\delta_2/\\delta=F$')\n",
      "pyplot.plot(lam,half_cf(lam)/10., lw=2, label=r'$c_f Re_\\delta/20$')\n",
      "pyplot.legend(loc='upper right')"
     ],
     "language": "python",
     "metadata": {},
     "outputs": [
      {
       "metadata": {},
       "output_type": "pyout",
       "prompt_number": 5,
       "text": [
        "<matplotlib.legend.Legend at 0x1063c2750>"
       ]
      },
      {
       "metadata": {},
       "output_type": "display_data",
       "png": "[encoded data removed]",
       "text": [
        "<matplotlib.figure.Figure at 0x1063df110>"
       ]
      }
     ],
     "prompt_number": 5
    },
    {
     "cell_type": "markdown",
     "metadata": {},
     "source": [
      "**Since $u_e$ is given by potential flow and $\\lambda = \\frac {\\delta^2}\\nu u_e'$, the only unknown is $\\delta(x)$.** Excellent!"
     ]
    },
    {
     "cell_type": "markdown",
     "metadata": {},
     "source": [
      "## Stagnation point condition\n",
      "\n",
      "Now we need to write the momentum equation in terms of $\\delta$ (and $\\lambda$) and solve. This equation needs to be valid from the leading edge all the way to the point of separation. \n",
      "\n",
      "For any body with finite thickness the boundary layer will begin at the stagnation point at the front of the body. However, describing the boundary layer at a stagnation point is somewhat tricky."
     ]
    },
    {
     "cell_type": "markdown",
     "metadata": {},
     "source": [
      "##### Quiz 2\n",
      "\n",
      "Which relationships are true at a stagnation point?\n",
      "\n",
      "1. $u_e = 0$\n",
      "1. $u_e' = 0$\n",
      "1. $\\delta/x << 1$\n",
      "1. $c_f$ is singular"
     ]
    },
    {
     "cell_type": "markdown",
     "metadata": {},
     "source": [
      "---\n",
      "\n",
      "That's no good - the momentum equation will be singular at the leading edge.  We can avoid this problem by multiplying the whole equation by $Re_\\delta$, leading to:\n",
      "\n",
      "$$ \\frac 12 c_f Re_\\delta = \\frac\\delta\\nu u_e' [\\delta_1+2\\delta_2]+Re_\\delta \\delta_2'$$ \n",
      "\n",
      "The first term on the RHS can be simplified by dividing the brackets by $\\delta$ and mutiplying by $\\delta$ outside out to produce the definition of $\\lambda$. This lets us group the terms only dependant on $\\lambda$ together to define\n",
      "\n",
      "$$ g_1(\\lambda) = \\frac 12 c_f Re_\\delta - \\lambda \\left[\\frac{\\delta_1}{\\delta}+2\\frac{\\delta_2}\\delta\\right]$$\n",
      "\n",
      "Using this definition, the momentum equation is\n",
      "\n",
      "$$ g_1(\\lambda) = Re_\\delta \\delta_2'$$ \n"
     ]
    },
    {
     "cell_type": "markdown",
     "metadata": {},
     "source": [
      "\n",
      "##### Quiz 3\n",
      "\n",
      "The equation above further simplifies at the leading edge. What is the stagnation point condition?\n",
      "\n",
      "1. $g_1 = 0$\n",
      "1. $g_1 = Re_\\delta$\n",
      "1. $ \\frac 12 c_f = 0$"
     ]
    },
    {
     "cell_type": "markdown",
     "metadata": {},
     "source": [
      "---\n",
      "\n",
      "This equations leads to our initial condition on $\\lambda$. We could determine the solution approximately using graphical methods, but [googling](http://lmgtfy.com/?q=numpy+find+root&l=1) leads to the `bisect` function in `scipy.optimize`, another numerical module in python."
     ]
    },
    {
     "cell_type": "code",
     "collapsed": false,
     "input": [
      "def g_1(lam): return half_cf(lam)-lam*(delta_1(lam)+2*delta_2(lam))"
     ],
     "language": "python",
     "metadata": {},
     "outputs": [],
     "prompt_number": 6
    },
    {
     "cell_type": "code",
     "collapsed": false,
     "input": [
      "from scipy.optimize import bisect\n",
      "lam0 = bisect(g_1,-12,12)\n",
      "print 'lambda_0 = ',lam0"
     ],
     "language": "python",
     "metadata": {},
     "outputs": [
      {
       "output_type": "stream",
       "stream": "stdout",
       "text": [
        "lambda_0 =  7.05232310118\n"
       ]
      }
     ],
     "prompt_number": 7
    },
    {
     "cell_type": "markdown",
     "metadata": {},
     "source": [
      "With the value of $\\lambda_0$ determined, the initial value of $\\delta_0$ is simply\n",
      "\n",
      "$$ \\delta_0 = \\sqrt{\\frac{\\nu \\lambda_0}{u_e'(x_0)}} $$"
     ]
    },
    {
     "cell_type": "markdown",
     "metadata": {},
     "source": [
      "## Pohlhausen momentum equation\n",
      "\n",
      "The only thing left to do is write $\\delta_2'$ in terms of $\\delta'$. Using $F=\\frac{\\delta_2}\\delta$ we have\n",
      "\n",
      "$$ \\delta_2' = \\frac{d}{dx}(F\\delta) $$\n",
      "\n",
      "From the line plot above, we see that $F$ is nearly unchanged across the whole range of $\\lambda$, so we will treat it as a constant. Therefore the complete Pohlhausen momentum equation is\n",
      "\n",
      "$$ g_1 = Re_\\delta F \\delta'$$\n",
      "\n",
      "Isolating the derivative, we have\n",
      "\n",
      "$$ \\delta'= \\frac{g_1(\\lambda)}{Re_\\delta F(\\lambda)} $$\n",
      "\n",
      "Lets plot the functions of  $\\lambda$ to get a feel for how the boundary layer will develop."
     ]
    },
    {
     "cell_type": "code",
     "collapsed": false,
     "input": [
      "pyplot.xlabel(r'$\\lambda$', fontsize=16)\n",
      "pyplot.ylabel(r'$g_1/F$', fontsize=16)\n",
      "pyplot.plot(lam,g_1(lam)/delta_2(lam), lw=2)\n",
      "pyplot.scatter(lam0,0, s=100, c='r')\n",
      "pyplot.text(lam0,3, r'$\\lambda_0$',fontsize=15)"
     ],
     "language": "python",
     "metadata": {},
     "outputs": [
      {
       "metadata": {},
       "output_type": "pyout",
       "prompt_number": 8,
       "text": [
        "<matplotlib.text.Text at 0x107248590>"
       ]
      },
      {
       "metadata": {},
       "output_type": "display_data",
       "png": "[encoded data removed]",
       "text": [
        "<matplotlib.figure.Figure at 0x10712cbd0>"
       ]
      }
     ],
     "prompt_number": 8
    },
    {
     "cell_type": "markdown",
     "metadata": {},
     "source": [
      "##### Quiz 4\n",
      "\n",
      "What will happen if $\\lambda>\\lambda_0$?\n",
      "\n",
      "1. Flat plate boundary layer flow.\n",
      "1. The boundary layer will shrink.\n",
      "1. The Pohlausen equation will be singular."
     ]
    },
    {
     "cell_type": "markdown",
     "metadata": {},
     "source": [
      "## Ordinary differential equations\n",
      "\n",
      "The momentum equation above is an ordinary differentilal equation (ODE), having the form\n",
      "\n",
      "$$ \\psi' = g(\\psi(x),x) $$\n",
      "\n",
      "and all ODEs have an important feature in common\n",
      "\n",
      "##### Mathematics fundamental: ODEs\n",
      "##### Systems whose evolution only depends on their current state\n",
      "\n",
      "The fact that ODEs depend only on the current state makes them easier to solve. If we integrate the ODE from $x_0$ to $x_1$ we have\n",
      "\n",
      "$$ \\psi(x_1) = \\psi_1= \\psi_0+\\int_{x_0}^{x_1} g(\\psi(x),x) dx $$\n",
      "\n",
      "which means all we need to solve for $\\psi_1$ is the value of $\\psi_0$ and an estimate the RHS integral. And once we have $\\psi_1$, we can get $\\psi_2$, etc. In general we have\n",
      "\n",
      "$$ \\psi_{i+1}= \\psi_i+\\int_{x_i}^{x_{i+1}} g(\\psi(x),x) dx  \\quad i=0,\\ldots, N-1$$\n",
      "\n",
      "This means the ODE can be solved by *marching* from $x=0$ to $x=L$. Compared to the vortex panel method and its linear system of equations that needed to be solved simultaneously using matrices, this is easy."
     ]
    },
    {
     "cell_type": "markdown",
     "metadata": {},
     "source": [
      "## Numerical integration\n",
      "\n",
      "You've seen numerical ways to determine the area under a curve before, like the trapezioal rule\n",
      "\n",
      "$$ \\int_{x_0}^{x_1} f(x) dx \\approx  \\frac12[f(x_0)+f(x_1)]\\Delta x $$"
     ]
    },
    {
     "cell_type": "markdown",
     "metadata": {},
     "source": [
      "##### Quiz 5\n",
      "\n",
      "What is the important difference between the integral above and the ODE integral?\n",
      "\n",
      "1. $\\psi_1$ is unknown\n",
      "1. $g$ is unknown\n",
      "1. $g$ is nonlinear"
     ]
    },
    {
     "cell_type": "markdown",
     "metadata": {},
     "source": [
      "---\n",
      "This means we have to modify the numerical method into two steps. First we estimate the integral as $g(\\psi_0,x_0)\\Delta x$. This lets us *predict* an estimate of $\\psi_1$\n",
      "\n",
      "$$ \\tilde\\psi_1= \\psi_0+ g(\\psi_0,x_0)\\Delta x $$\n",
      "\n",
      "However, this one-sided estimate of the integral is very rough. In the next step we *correct* the prediction using the trapeziodal rule\n",
      "\n",
      "$$ \\psi_1= \\psi_0+ \\frac12[g(\\psi_0,x_0)+g(\\tilde\\psi_1,x_1)]\\Delta x $$\n",
      "\n",
      "This is often called the predictor/corrector method, or Heun's method."
     ]
    },
    {
     "cell_type": "code",
     "collapsed": false,
     "input": [
      "def heun(g,psi0,x0,dx):\n",
      "    g0 = g(psi0,x0)                                 # integrand at x0\n",
      "    tilde_psi = psi0+g0*dx                          # predicted estimate of phi0\n",
      "    return psi0+0.5*(g0+g(tilde_psi,x0+dx))*dx      # corrected estimate"
     ],
     "language": "python",
     "metadata": {},
     "outputs": [],
     "prompt_number": 9
    },
    {
     "cell_type": "markdown",
     "metadata": {},
     "source": [
      "Lets test it using $\\psi'=\\psi$ with $\\psi_0=1$, since we know the solution is $\\psi = e^x$"
     ]
    },
    {
     "cell_type": "code",
     "collapsed": false,
     "input": [
      "N = 20                              # number of steps\n",
      "x = numpy.linspace(0,numpy.pi,N)    # set up x array from 0..pi\n",
      "psi = numpy.full_like(x,1.)         # psi array with phi0=1\n",
      "def g_test(psi,x): return psi       # define RHS\n",
      "for i in range(N-1):                # march!\n",
      "    psi[i+1] = heun(g_test,psi[i],x[i],x[1])"
     ],
     "language": "python",
     "metadata": {},
     "outputs": [],
     "prompt_number": 10
    },
    {
     "cell_type": "code",
     "collapsed": false,
     "input": [
      "pyplot.plot(x,psi)\n",
      "pyplot.plot(x,numpy.exp(x))\n",
      "print 'exp(pi) ~ ', psi[N-1],', error = ',1-psi[N-1]/numpy.exp(numpy.pi)"
     ],
     "language": "python",
     "metadata": {},
     "outputs": [
      {
       "output_type": "stream",
       "stream": "stdout",
       "text": [
        "exp(pi) ~  22.8496648117 , error =  0.0125764524705\n"
       ]
      },
      {
       "metadata": {},
       "output_type": "display_data",
       "png": "[encoded data removed]",
       "text": [
        "<matplotlib.figure.Figure at 0x10713f710>"
       ]
      }
     ],
     "prompt_number": 11
    },
    {
     "cell_type": "markdown",
     "metadata": {},
     "source": [
      "Looks good, only 1% error."
     ]
    },
    {
     "cell_type": "markdown",
     "metadata": {},
     "source": [
      "## Boundary layer solution\n",
      "\n",
      "Returning to the boundary layer ODE, we define the RHS function"
     ]
    },
    {
     "cell_type": "code",
     "collapsed": false,
     "input": [
      "def g_pohl(delta,x):\n",
      "    Re_d = u_e(x)*delta/nu              # Local boundary layer Reynolds number\n",
      "    if Re_d==0: return 0                # Stagnation point condition\n",
      "    lam = delta**2*du_e(x)/nu           # Shape function\n",
      "    return g_1(lam)/delta_2(lam)/Re_d   # Complete RHS"
     ],
     "language": "python",
     "metadata": {},
     "outputs": [],
     "prompt_number": 12
    },
    {
     "cell_type": "markdown",
     "metadata": {},
     "source": [
      "and a function to march along the boundary layer and check for separation"
     ]
    },
    {
     "cell_type": "code",
     "collapsed": false,
     "input": [
      "def march(x):\n",
      "    delta0 = numpy.sqrt(lam0*nu/du_e(0))                # set delta0\n",
      "    delta = numpy.full_like(x,delta0)                   # delta array\n",
      "    lam = numpy.full_like(x,lam0)                       # lambda array\n",
      "    for i in range(N-1):                                # march!\n",
      "        delta[i+1] = heun(g_pohl,delta[i],x[i],x[1])    # integrate delta\n",
      "        lam[i+1] = delta[i+1]**2*du_e(x[i+1])/nu        # find lambda\n",
      "        if lam[i+1]<-12: break                          # stop at separation\n",
      "    return delta,lam,i                                  # return with separation index"
     ],
     "language": "python",
     "metadata": {},
     "outputs": [],
     "prompt_number": 13
    },
    {
     "cell_type": "markdown",
     "metadata": {},
     "source": [
      "and we're done!\n",
      "\n",
      "Let's test it on the potential flow around a circle. \n",
      "\n",
      "In this case the boundary layer will march along $s=R\\theta$ from $s=0,\\ldots,R\\pi$. Lets set the parameters $R=1$, $U_\\infty=1$ and $Re_R=10^5$, such that\n",
      "\n",
      "- $\\nu=10^{-5}$\n",
      "- $u_e = 2\\sin(s)$"
     ]
    },
    {
     "cell_type": "code",
     "collapsed": false,
     "input": [
      "nu = 1e-5                                   # viscosity\n",
      "def u_e(s):   return  2.*numpy.sin(s)       # velocity\n",
      "def du_e(s):  return  2.*numpy.cos(s)       # gradient"
     ],
     "language": "python",
     "metadata": {},
     "outputs": [],
     "prompt_number": 14
    },
    {
     "cell_type": "code",
     "collapsed": false,
     "input": [
      "N = 40                                      # number of steps\n",
      "s = numpy.linspace(0,numpy.pi,N)            # set up x array from 0..pi\n",
      "delta,lam,iSep = march(s)                   # solve!"
     ],
     "language": "python",
     "metadata": {},
     "outputs": [],
     "prompt_number": 15
    },
    {
     "cell_type": "markdown",
     "metadata": {},
     "source": [
      "Let plot this result compared to the exact solution for a flat plate."
     ]
    },
    {
     "cell_type": "code",
     "collapsed": false,
     "input": [
      "pyplot.ylabel(r'$\\delta/R$', fontsize=16)\n",
      "pyplot.xlabel(r'$s/R$', fontsize=16)\n",
      "pyplot.plot(s[:iSep+1],delta[:iSep+1],lw=2,label='Circle')\n",
      "pyplot.plot(s,s*5/numpy.sqrt(s/nu),lw=2,label='Flat plate')\n",
      "pyplot.legend(loc='upper left')\n",
      "pyplot.scatter(s[iSep],delta[iSep], s=100, c='r')\n",
      "pyplot.text(s[iSep]+0.1,delta[iSep], 'separation \\n s='+'%.2f' % s[iSep],fontsize=12)"
     ],
     "language": "python",
     "metadata": {},
     "outputs": [
      {
       "output_type": "stream",
       "stream": "stderr",
       "text": [
        "-c:4: RuntimeWarning: invalid value encountered in divide\n"
       ]
      },
      {
       "metadata": {},
       "output_type": "pyout",
       "prompt_number": 16,
       "text": [
        "<matplotlib.text.Text at 0x1060b5ad0>"
       ]
      },
      {
       "metadata": {},
       "output_type": "display_data",
       "png": "[encoded data removed]",
       "text": [
        "<matplotlib.figure.Figure at 0x107274d10>"
       ]
      }
     ],
     "prompt_number": 16
    },
    {
     "cell_type": "markdown",
     "metadata": {},
     "source": [
      "The circle solution is completely different due to the external flow field.\n",
      "\n",
      " - The boundary layer growth is stunted because of the strong presure gradient\n",
      " - $\\delta$ increases rapidly as the flow approaches the midbody $s/R=\\pi/2$\n",
      " - The flow separates just after 1.85 radians"
     ]
    },
    {
     "cell_type": "markdown",
     "metadata": {},
     "source": [
      "##### Quiz 6\n",
      "\n",
      "How can you compute the total friction drag coefficient $C_F$ on the circle? \n",
      "\n",
      "1. Flat plate estimate\n",
      "1. Compute $\\tau_w=\\frac 12 c_f \\rho u_e^2 $ and integrate numerically\n",
      "\n",
      "Hint: [`numpy.trapz`](http://docs.scipy.org/doc/numpy/reference/generated/numpy.trapz.html)"
     ]
    },
    {
     "cell_type": "markdown",
     "metadata": {},
     "source": [
      "##### Your turn\n",
      "\n",
      "Determine $C_F=\\frac 2{\\rho U_\\infty^2 S}\\int \\tau_w ds$ and compare it to the flat plate solution: $1.33 Re^{-1/2}$.\n",
      "\n",
      "How could you estimate the pressure drag using the point of separation? Recall, the potential flow estimate is $C_D=0$. Can you do better?"
     ]
    },
    {
     "cell_type": "code",
     "collapsed": false,
     "input": [
      "# your code here"
     ],
     "language": "python",
     "metadata": {},
     "outputs": [],
     "prompt_number": 17
    },
    {
     "cell_type": "markdown",
     "metadata": {},
     "source": [
      "---\n",
      "Please ignore the cell below. It just loads our style for the notebooks."
     ]
    },
    {
     "cell_type": "code",
     "collapsed": false,
     "input": [
      "from IPython.core.display import HTML\n",
      "def css_styling():\n",
      "    styles = open('../styles/custom.css', 'r').read()\n",
      "    return HTML(styles)\n",
      "css_styling()"
     ],
     "language": "python",
     "metadata": {},
     "outputs": [
      {
       "html": [
        "<link href='http://fonts.googleapis.com/css?family=Fenix' rel='stylesheet' type='text/css'>\n",
        "<link href='http://fonts.googleapis.com/css?family=Alegreya+Sans:100,300,400,500,700,800,900,100italic,300italic,400italic,500italic,700italic,800italic,900italic' rel='stylesheet' type='text/css'>\n",
        "<link href='http://fonts.googleapis.com/css?family=Source+Code+Pro:300,400' rel='stylesheet' type='text/css'>\n",
        "<style>\n",
        "    @font-face {\n",
        "        font-family: \"Computer Modern\";\n",
        "        src: url('http://mirrors.ctan.org/fonts/cm-unicode/fonts/otf/cmunss.otf');\n",
        "    }\n",
        "    div.cell{\n",
        "        width:800px;\n",
        "        margin-left:16% !important;\n",
        "        margin-right:auto;\n",
        "    }\n",
        "    h1 {\n",
        "        font-family: 'Alegreya Sans', sans-serif;\n",
        "    }\n",
        "    h2 {\n",
        "        font-family: 'Fenix', serif;\n",
        "    }\n",
        "    h3{\n",
        "\t\tfont-family: 'Fenix', serif;\n",
        "        margin-top:12px;\n",
        "        margin-bottom: 3px;\n",
        "       }\n",
        "\th4{\n",
        "\t\tfont-family: 'Fenix', serif;\n",
        "       }\n",
        "    h5 {\n",
        "        font-family: 'Alegreya Sans', sans-serif;\n",
        "    }\t   \n",
        "    div.text_cell_render{\n",
        "        font-family: 'Alegreya Sans',Computer Modern, \"Helvetica Neue\", Arial, Helvetica, Geneva, sans-serif;\n",
        "        line-height: 135%;\n",
        "        font-size: 120%;\n",
        "        width:600px;\n",
        "        margin-left:auto;\n",
        "        margin-right:auto;\n",
        "    }\n",
        "    .CodeMirror{\n",
        "            font-family: \"Source Code Pro\";\n",
        "\t\t\tfont-size: 90%;\n",
        "    }\n",
        "/*    .prompt{\n",
        "        display: None;\n",
        "    }*/\n",
        "    .text_cell_render h1 {\n",
        "        font-weight: 200;\n",
        "        font-size: 50pt;\n",
        "\t\tline-height: 100%;\n",
        "        color:#CD2305;\n",
        "        margin-bottom: 0.5em;\n",
        "        margin-top: 0.5em;\n",
        "        display: block;\n",
        "    }\t\n",
        "    .text_cell_render h5 {\n",
        "        font-weight: 300;\n",
        "        font-size: 16pt;\n",
        "        color: #CD2305;\n",
        "        font-style: italic;\n",
        "        margin-bottom: .5em;\n",
        "        margin-top: 0.5em;\n",
        "        display: block;\n",
        "    }\n",
        "    \n",
        "    .warning{\n",
        "        color: rgb( 240, 20, 20 )\n",
        "        }  \n",
        "</style>\n",
        "<script>\n",
        "    MathJax.Hub.Config({\n",
        "                        TeX: {\n",
        "                           extensions: [\"AMSmath.js\"], \n",
        "                           equationNumbers: { autoNumber: \"AMS\", useLabelIds: true}\n",
        "                           },\n",
        "                tex2jax: {\n",
        "                    inlineMath: [ ['$','$'], [\"\\\\(\",\"\\\\)\"] ],\n",
        "                    displayMath: [ ['$$','$$'], [\"\\\\[\",\"\\\\]\"] ]\n",
        "                },\n",
        "                displayAlign: 'center', // Change this to 'center' to center equations.\n",
        "                \"HTML-CSS\": {\n",
        "                    styles: {'.MathJax_Display': {\"margin\": 4}}\n",
        "                }\n",
        "        });\n",
        "</script>\n"
       ],
       "metadata": {},
       "output_type": "pyout",
       "prompt_number": 18,
       "text": [
        "<IPython.core.display.HTML at 0x1072367d0>"
       ]
      }
     ],
     "prompt_number": 18
    }
   ],
   "metadata": {}
  }
 ]
}